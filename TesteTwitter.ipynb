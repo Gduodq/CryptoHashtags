{
  "cells": [
    {
      "cell_type": "markdown",
      "source": [
        "# Trabalho Unidade 03 - Análise de hashtags relacionadas a criptomoedas no Twitter\n",
        "\n",
        "Autores:\n",
        "\n",
        "* Darlan de Castro Silva Filho - 20200000607;\n",
        "* Marcos Henrique Fernandes Marcone - 20200000760;\n",
        "\n",
        "Disciplina: IMD1155 - ANÁLISE DE REDES - T01 (2021.2)\n",
        "\n",
        "Professor: Ivanovitch Medeiros Dantas da Silva"
      ],
      "metadata": {
        "id": "cKB8A6lXa1cP"
      }
    },
    {
      "cell_type": "markdown",
      "source": [
        "## Análise de hashtags relacionadas a criptomoedas no Twitter\n",
        "\n",
        "\n",
        "O trabalho tem como objetivo a análise das hashtags mais comumente encontradas no Twitter relacionadas ao mundo das criptomoedas.\n",
        "\n",
        "Para isso ser feito foram escolhidas as 10 criptomoedas com o maior valor de mercado no dia **09 de Fevereiro de 2022**. Para isso foi utilizado o site [Coin Market Cap](https://coinmarketcap.com/).\n",
        "\n",
        "Assim as 180 requisições que são disponibilizadas pela API do Twitter, no intervalo de 15 minutos, foram divididas na busca de 10 *hashtags*. Cada criptomoeda foi representada com a sigla como chave de pesquisa. \n",
        "\n",
        "Ao todo, ao longo de mais de uma semana foram obtidos mais de 127000 tweets formando uma base dados bem sólida. Dessa forma, foi possível analisar quais são os tópicos que mais estão ligados quando o assunto é criptomoedas no Twitter.\n",
        "\n",
        "Para acessar a segunda parte deste trabalho, que é o grafo obtido através dos dados deste notebook, basta clicar no seguinte link: [link](https://drive.google.com/file/d/1xTMFlQgPWho3B9NzvDndZJ4jmmYRpUXV/view?usp=sharing)."
      ],
      "metadata": {
        "id": "87yw_Z7VboNO"
      }
    },
    {
      "cell_type": "code",
      "execution_count": null,
      "metadata": {
        "colab": {
          "base_uri": "https://localhost:8080/"
        },
        "id": "g42q7tAJ6Knp",
        "outputId": "a497da0a-acc8-40b4-804f-783fd6879f7c"
      },
      "outputs": [
        {
          "output_type": "stream",
          "name": "stdout",
          "text": [
            "Collecting Twython\n",
            "  Downloading twython-3.9.1-py3-none-any.whl (33 kB)\n",
            "Requirement already satisfied: requests>=2.1.0 in /usr/local/lib/python3.7/dist-packages (from Twython) (2.23.0)\n",
            "Requirement already satisfied: requests-oauthlib>=0.4.0 in /usr/local/lib/python3.7/dist-packages (from Twython) (1.3.1)\n",
            "Requirement already satisfied: idna<3,>=2.5 in /usr/local/lib/python3.7/dist-packages (from requests>=2.1.0->Twython) (2.10)\n",
            "Requirement already satisfied: urllib3!=1.25.0,!=1.25.1,<1.26,>=1.21.1 in /usr/local/lib/python3.7/dist-packages (from requests>=2.1.0->Twython) (1.24.3)\n",
            "Requirement already satisfied: chardet<4,>=3.0.2 in /usr/local/lib/python3.7/dist-packages (from requests>=2.1.0->Twython) (3.0.4)\n",
            "Requirement already satisfied: certifi>=2017.4.17 in /usr/local/lib/python3.7/dist-packages (from requests>=2.1.0->Twython) (2021.10.8)\n",
            "Requirement already satisfied: oauthlib>=3.0.0 in /usr/local/lib/python3.7/dist-packages (from requests-oauthlib>=0.4.0->Twython) (3.2.0)\n",
            "Installing collected packages: Twython\n",
            "Successfully installed Twython-3.9.1\n"
          ]
        }
      ],
      "source": [
        "# Instalação da biblioteca Twython para manipulação da API do Twitter\n",
        "!pip install Twython"
      ]
    },
    {
      "cell_type": "code",
      "execution_count": null,
      "metadata": {
        "colab": {
          "base_uri": "https://localhost:8080/"
        },
        "id": "eJ3C4ck2Oqwf",
        "outputId": "d1a4618d-f466-4922-af01-79df7b15d62f"
      },
      "outputs": [
        {
          "output_type": "stream",
          "name": "stdout",
          "text": [
            "Mounted at /content/drive\n"
          ]
        }
      ],
      "source": [
        "# Uso de arquivo externos ao notebook no google drive\n",
        "from google.colab import drive\n",
        "drive.mount('/content/drive')"
      ]
    },
    {
      "cell_type": "code",
      "execution_count": null,
      "metadata": {
        "id": "WIfGrSETu54k"
      },
      "outputs": [],
      "source": [
        "# Download do dataset\n",
        "!gdown https://drive.google.com/uc?id=1-4BIILGxf68lSC-yQ-Eel_LjEB3DnlzT\n",
        "PATH_DATAFRAME = '/dataframeTemporario.csv'"
      ]
    },
    {
      "cell_type": "code",
      "execution_count": null,
      "metadata": {
        "id": "kKvo75eZOzCR"
      },
      "outputs": [],
      "source": [
        "# Caminho para dataset de tweets recuperados\n",
        "PATH_DATAFRAME = '/content/drive/MyDrive/2021.2/Análise de Redes/Trabalho 3 Unidade/dataframeTemporario.csv'"
      ]
    },
    {
      "cell_type": "code",
      "execution_count": null,
      "metadata": {
        "id": "0U8HUbp36Rhp"
      },
      "outputs": [],
      "source": [
        "# Importando as principais bibliotecas\n",
        "from twython import Twython, TwythonError\n",
        "import pandas as pd\n",
        "import itertools\n",
        "import time\n",
        "import plotly.express as px"
      ]
    },
    {
      "cell_type": "markdown",
      "metadata": {
        "id": "_sAiLX2j7fCj"
      },
      "source": [
        "## Autenticação com API do Twitter\n",
        "\n",
        "Para a autenticação com o Twitter são utilizadas as chaves de API fornecidas para contas que foram validadas para uso direto com a sua API."
      ]
    },
    {
      "cell_type": "code",
      "execution_count": null,
      "metadata": {
        "id": "XTEgZPtb6heK"
      },
      "outputs": [],
      "source": [
        "# Chaves de autenticação com a API do Twitter - Arquivo keys.txt\n",
        "# Abre o arquivo keys.txt\n",
        "my_file = open(\"keys.txt\", \"r\")\n",
        "\n",
        "# Ler todo o conteúdo em um única string\n",
        "content = my_file.read()\n",
        "\n",
        "# separa as linhas com o carectere \\n como separador\n",
        "API_KEY, API_SECRET_KEY = content.split(\"\\n\")\n",
        "\n",
        "# Fecha o arquivo\n",
        "my_file.close()"
      ]
    },
    {
      "cell_type": "markdown",
      "metadata": {
        "id": "TifGFnaV7hr7"
      },
      "source": [
        "### Entrando com as informação e obtendo uma URL de autorização"
      ]
    },
    {
      "cell_type": "code",
      "execution_count": null,
      "metadata": {
        "colab": {
          "base_uri": "https://localhost:8080/"
        },
        "id": "MHUDNPwL6pFs",
        "outputId": "08fe7406-bfaf-4ba7-a50c-c165bbe1837b"
      },
      "outputs": [
        {
          "output_type": "stream",
          "name": "stdout",
          "text": [
            "https://api.twitter.com/oauth/authenticate?oauth_token=UHo4OwAAAAABYzBYAAABfwos24c\n"
          ]
        }
      ],
      "source": [
        "# Obtendo token de verificação ao enviar as chaves para a API do Twitter\n",
        "twitter = Twython(API_KEY, API_SECRET_KEY)\n",
        "\n",
        "tokensDeAutenticacao = twitter.get_authentication_tokens()\n",
        "print(tokensDeAutenticacao['auth_url'])"
      ]
    },
    {
      "cell_type": "markdown",
      "metadata": {
        "id": "YZRy2UOq7jb8"
      },
      "source": [
        "### Autorizando a utilização do app com o PIN de verificação "
      ]
    },
    {
      "cell_type": "code",
      "execution_count": null,
      "metadata": {
        "id": "7S-7aJrw7I-O"
      },
      "outputs": [],
      "source": [
        "# Validação do PIN recebido na etapa anterior e recebimento dos tokens de acesso\n",
        "VERIFIER = '6176399' #Inserir PIN aqui\n",
        "\n",
        "twitter = Twython(API_KEY, API_SECRET_KEY,\n",
        "                  tokensDeAutenticacao['oauth_token'],\n",
        "                  tokensDeAutenticacao['oauth_token_secret'])\n",
        "\n",
        "tokensAutorizados = twitter.get_authorized_tokens(VERIFIER)"
      ]
    },
    {
      "cell_type": "markdown",
      "metadata": {
        "id": "fMfcpI027kwf"
      },
      "source": [
        "### Utilizando os Tokens de autorização"
      ]
    },
    {
      "cell_type": "code",
      "execution_count": null,
      "metadata": {
        "id": "ZyhJRLx_6sTb",
        "colab": {
          "base_uri": "https://localhost:8080/"
        },
        "outputId": "09a5fc66-14b3-4082-8833-6dfadc1d99a7"
      },
      "outputs": [
        {
          "output_type": "execute_result",
          "data": {
            "text/plain": [
              "{'contributors_enabled': False,\n",
              " 'created_at': 'Wed Feb 02 17:47:26 +0000 2022',\n",
              " 'default_profile': True,\n",
              " 'default_profile_image': False,\n",
              " 'description': '',\n",
              " 'entities': {'description': {'urls': []}},\n",
              " 'favourites_count': 0,\n",
              " 'follow_request_sent': False,\n",
              " 'followers_count': 0,\n",
              " 'following': False,\n",
              " 'friends_count': 1,\n",
              " 'geo_enabled': False,\n",
              " 'has_extended_profile': True,\n",
              " 'id': 1488931987704397824,\n",
              " 'id_str': '1488931987704397824',\n",
              " 'is_translation_enabled': False,\n",
              " 'is_translator': False,\n",
              " 'lang': None,\n",
              " 'listed_count': 0,\n",
              " 'location': '',\n",
              " 'name': 'Darlan de Castro',\n",
              " 'needs_phone_verification': False,\n",
              " 'notifications': False,\n",
              " 'profile_background_color': 'F5F8FA',\n",
              " 'profile_background_image_url': None,\n",
              " 'profile_background_image_url_https': None,\n",
              " 'profile_background_tile': False,\n",
              " 'profile_image_url': 'http://pbs.twimg.com/profile_images/1488932082927783941/Yp9Yy15A_normal.png',\n",
              " 'profile_image_url_https': 'https://pbs.twimg.com/profile_images/1488932082927783941/Yp9Yy15A_normal.png',\n",
              " 'profile_link_color': '1DA1F2',\n",
              " 'profile_sidebar_border_color': 'C0DEED',\n",
              " 'profile_sidebar_fill_color': 'DDEEF6',\n",
              " 'profile_text_color': '333333',\n",
              " 'profile_use_background_image': True,\n",
              " 'protected': False,\n",
              " 'screen_name': 'analisederedes',\n",
              " 'statuses_count': 0,\n",
              " 'suspended': False,\n",
              " 'time_zone': None,\n",
              " 'translator_type': 'none',\n",
              " 'url': None,\n",
              " 'utc_offset': None,\n",
              " 'verified': False,\n",
              " 'withheld_in_countries': []}"
            ]
          },
          "metadata": {},
          "execution_count": 8
        }
      ],
      "source": [
        "# Utilização dos tokens recebidos para liberação do acesso\n",
        "twitter = Twython(API_KEY, API_SECRET_KEY,\n",
        "                  tokensAutorizados['oauth_token'],\n",
        "                  tokensAutorizados['oauth_token_secret'])\n",
        "\n",
        "twitter.verify_credentials()"
      ]
    },
    {
      "cell_type": "markdown",
      "metadata": {
        "id": "6Kf5LKpSudaX"
      },
      "source": [
        "## Análise Expoloratória dos dados\n",
        "\n",
        "Esta seção apresenta uma Análise Exploratória dos Dados (EDA), que consiste na composição de um dataframe pandas com base nos tweets que foram obtidas através da API do Twitter. "
      ]
    },
    {
      "cell_type": "markdown",
      "metadata": {
        "id": "aAXoTbXkflj0"
      },
      "source": [
        "### Formato do tweet que será salvo no dataset \n",
        "\n",
        "* **user_screen_name**: Identificador textual único do usuário (\"@\");\n",
        "* **user_location**: Localização do usuário;\n",
        "* **user_name**: Nome do usuário;\n",
        "* **favorite_count**: Quantidade de favoritos do tweet;\n",
        "* **created_at**: Quando o tweet foi criado;\n",
        "* **retweet_count**: Quantidade de retweets do tweet;\n",
        "* **id**: Identificador numérico único do tweet;\n",
        "* **hashtags**: Lista com as hashtags mencionadas no tweet.\n",
        "\n",
        "###Filtragem\n",
        "\n",
        "É preciso ressaltar que para formar o dataframe foram aplicados os seguintes filtros: eliminação dos tweets que são **truncados**, como também foram descartados aqueles que retornaram o campo ***hashtags* vazio**."
      ]
    },
    {
      "cell_type": "markdown",
      "source": [
        "### Montando o Dataframe"
      ],
      "metadata": {
        "id": "wNUCmHaCdVZf"
      }
    },
    {
      "cell_type": "markdown",
      "source": [
        "Inicialmente, como a aplicação foi executada em diferentes dias, então carrega-se o dataframe obtido até o dia anterior."
      ],
      "metadata": {
        "id": "dRBe_s3vjMIw"
      }
    },
    {
      "cell_type": "code",
      "execution_count": null,
      "metadata": {
        "id": "6OUEXqZ9Pj-R"
      },
      "outputs": [],
      "source": [
        "# Carregando o dataset para a adição de novos tweets\n",
        "velhoDF = pd.read_csv(PATH_DATAFRAME)\n",
        "\n",
        "#velhoDF = pd.DataFrame()"
      ]
    },
    {
      "cell_type": "code",
      "execution_count": null,
      "metadata": {
        "colab": {
          "base_uri": "https://localhost:8080/"
        },
        "id": "qJCoWU6jQEnx",
        "outputId": "09b8b4cd-1ae2-4978-96e8-288d3fc48e01"
      },
      "outputs": [
        {
          "output_type": "execute_result",
          "data": {
            "text/plain": [
              "(125257, 8)"
            ]
          },
          "metadata": {},
          "execution_count": 10
        }
      ],
      "source": [
        "# Dimensões do dataset \n",
        "velhoDF.shape"
      ]
    },
    {
      "cell_type": "code",
      "execution_count": null,
      "metadata": {
        "colab": {
          "base_uri": "https://localhost:8080/",
          "height": 206
        },
        "id": "dZNA9IIXQxlf",
        "outputId": "8c6276b2-9a9e-4e8b-e37d-f42561d8e700"
      },
      "outputs": [
        {
          "output_type": "execute_result",
          "data": {
            "text/html": [
              "\n",
              "  <div id=\"df-f6020e21-df53-42c9-a6e6-fbaa28e8a12b\">\n",
              "    <div class=\"colab-df-container\">\n",
              "      <div>\n",
              "<style scoped>\n",
              "    .dataframe tbody tr th:only-of-type {\n",
              "        vertical-align: middle;\n",
              "    }\n",
              "\n",
              "    .dataframe tbody tr th {\n",
              "        vertical-align: top;\n",
              "    }\n",
              "\n",
              "    .dataframe thead th {\n",
              "        text-align: right;\n",
              "    }\n",
              "</style>\n",
              "<table border=\"1\" class=\"dataframe\">\n",
              "  <thead>\n",
              "    <tr style=\"text-align: right;\">\n",
              "      <th></th>\n",
              "      <th>id</th>\n",
              "      <th>user_screen_name</th>\n",
              "      <th>user_location</th>\n",
              "      <th>user_name</th>\n",
              "      <th>favorite_count</th>\n",
              "      <th>retweet_count</th>\n",
              "      <th>hashtags</th>\n",
              "      <th>created_at</th>\n",
              "    </tr>\n",
              "  </thead>\n",
              "  <tbody>\n",
              "    <tr>\n",
              "      <th>0</th>\n",
              "      <td>1.491879e+18</td>\n",
              "      <td>magolito98</td>\n",
              "      <td>NaN</td>\n",
              "      <td>Gemfai 💎</td>\n",
              "      <td>0.0</td>\n",
              "      <td>1.0</td>\n",
              "      <td>['dogearmy', 'Elonmusk', 'dogecoin']</td>\n",
              "      <td>Thu Feb 10 20:56:57 +0000 2022</td>\n",
              "    </tr>\n",
              "    <tr>\n",
              "      <th>1</th>\n",
              "      <td>1.491879e+18</td>\n",
              "      <td>los_aytises</td>\n",
              "      <td>NaN</td>\n",
              "      <td>de_campo</td>\n",
              "      <td>0.0</td>\n",
              "      <td>45.0</td>\n",
              "      <td>['BTC']</td>\n",
              "      <td>Thu Feb 10 20:56:54 +0000 2022</td>\n",
              "    </tr>\n",
              "    <tr>\n",
              "      <th>2</th>\n",
              "      <td>1.491879e+18</td>\n",
              "      <td>rCryptoReddit</td>\n",
              "      <td>Online</td>\n",
              "      <td>r/CryptoCurrency</td>\n",
              "      <td>0.0</td>\n",
              "      <td>0.0</td>\n",
              "      <td>['bitcoin', 'btc', 'cryptocurrency', 'crypto',...</td>\n",
              "      <td>Thu Feb 10 20:56:52 +0000 2022</td>\n",
              "    </tr>\n",
              "    <tr>\n",
              "      <th>3</th>\n",
              "      <td>1.491879e+18</td>\n",
              "      <td>KubatRustu</td>\n",
              "      <td>NaN</td>\n",
              "      <td>Rüştü Kubat</td>\n",
              "      <td>0.0</td>\n",
              "      <td>80.0</td>\n",
              "      <td>['Metaverse', 'Mogul']</td>\n",
              "      <td>Thu Feb 10 20:56:50 +0000 2022</td>\n",
              "    </tr>\n",
              "    <tr>\n",
              "      <th>4</th>\n",
              "      <td>1.491879e+18</td>\n",
              "      <td>KetenNimet</td>\n",
              "      <td>NaN</td>\n",
              "      <td>Nimet Keten</td>\n",
              "      <td>0.0</td>\n",
              "      <td>38.0</td>\n",
              "      <td>['agesa', 'akyho', 'alka', 'anhyt', 'arase', '...</td>\n",
              "      <td>Thu Feb 10 20:56:47 +0000 2022</td>\n",
              "    </tr>\n",
              "  </tbody>\n",
              "</table>\n",
              "</div>\n",
              "      <button class=\"colab-df-convert\" onclick=\"convertToInteractive('df-f6020e21-df53-42c9-a6e6-fbaa28e8a12b')\"\n",
              "              title=\"Convert this dataframe to an interactive table.\"\n",
              "              style=\"display:none;\">\n",
              "        \n",
              "  <svg xmlns=\"http://www.w3.org/2000/svg\" height=\"24px\"viewBox=\"0 0 24 24\"\n",
              "       width=\"24px\">\n",
              "    <path d=\"M0 0h24v24H0V0z\" fill=\"none\"/>\n",
              "    <path d=\"M18.56 5.44l.94 2.06.94-2.06 2.06-.94-2.06-.94-.94-2.06-.94 2.06-2.06.94zm-11 1L8.5 8.5l.94-2.06 2.06-.94-2.06-.94L8.5 2.5l-.94 2.06-2.06.94zm10 10l.94 2.06.94-2.06 2.06-.94-2.06-.94-.94-2.06-.94 2.06-2.06.94z\"/><path d=\"M17.41 7.96l-1.37-1.37c-.4-.4-.92-.59-1.43-.59-.52 0-1.04.2-1.43.59L10.3 9.45l-7.72 7.72c-.78.78-.78 2.05 0 2.83L4 21.41c.39.39.9.59 1.41.59.51 0 1.02-.2 1.41-.59l7.78-7.78 2.81-2.81c.8-.78.8-2.07 0-2.86zM5.41 20L4 18.59l7.72-7.72 1.47 1.35L5.41 20z\"/>\n",
              "  </svg>\n",
              "      </button>\n",
              "      \n",
              "  <style>\n",
              "    .colab-df-container {\n",
              "      display:flex;\n",
              "      flex-wrap:wrap;\n",
              "      gap: 12px;\n",
              "    }\n",
              "\n",
              "    .colab-df-convert {\n",
              "      background-color: #E8F0FE;\n",
              "      border: none;\n",
              "      border-radius: 50%;\n",
              "      cursor: pointer;\n",
              "      display: none;\n",
              "      fill: #1967D2;\n",
              "      height: 32px;\n",
              "      padding: 0 0 0 0;\n",
              "      width: 32px;\n",
              "    }\n",
              "\n",
              "    .colab-df-convert:hover {\n",
              "      background-color: #E2EBFA;\n",
              "      box-shadow: 0px 1px 2px rgba(60, 64, 67, 0.3), 0px 1px 3px 1px rgba(60, 64, 67, 0.15);\n",
              "      fill: #174EA6;\n",
              "    }\n",
              "\n",
              "    [theme=dark] .colab-df-convert {\n",
              "      background-color: #3B4455;\n",
              "      fill: #D2E3FC;\n",
              "    }\n",
              "\n",
              "    [theme=dark] .colab-df-convert:hover {\n",
              "      background-color: #434B5C;\n",
              "      box-shadow: 0px 1px 3px 1px rgba(0, 0, 0, 0.15);\n",
              "      filter: drop-shadow(0px 1px 2px rgba(0, 0, 0, 0.3));\n",
              "      fill: #FFFFFF;\n",
              "    }\n",
              "  </style>\n",
              "\n",
              "      <script>\n",
              "        const buttonEl =\n",
              "          document.querySelector('#df-f6020e21-df53-42c9-a6e6-fbaa28e8a12b button.colab-df-convert');\n",
              "        buttonEl.style.display =\n",
              "          google.colab.kernel.accessAllowed ? 'block' : 'none';\n",
              "\n",
              "        async function convertToInteractive(key) {\n",
              "          const element = document.querySelector('#df-f6020e21-df53-42c9-a6e6-fbaa28e8a12b');\n",
              "          const dataTable =\n",
              "            await google.colab.kernel.invokeFunction('convertToInteractive',\n",
              "                                                     [key], {});\n",
              "          if (!dataTable) return;\n",
              "\n",
              "          const docLinkHtml = 'Like what you see? Visit the ' +\n",
              "            '<a target=\"_blank\" href=https://colab.research.google.com/notebooks/data_table.ipynb>data table notebook</a>'\n",
              "            + ' to learn more about interactive tables.';\n",
              "          element.innerHTML = '';\n",
              "          dataTable['output_type'] = 'display_data';\n",
              "          await google.colab.output.renderOutput(dataTable, element);\n",
              "          const docLink = document.createElement('div');\n",
              "          docLink.innerHTML = docLinkHtml;\n",
              "          element.appendChild(docLink);\n",
              "        }\n",
              "      </script>\n",
              "    </div>\n",
              "  </div>\n",
              "  "
            ],
            "text/plain": [
              "             id  ...                      created_at\n",
              "0  1.491879e+18  ...  Thu Feb 10 20:56:57 +0000 2022\n",
              "1  1.491879e+18  ...  Thu Feb 10 20:56:54 +0000 2022\n",
              "2  1.491879e+18  ...  Thu Feb 10 20:56:52 +0000 2022\n",
              "3  1.491879e+18  ...  Thu Feb 10 20:56:50 +0000 2022\n",
              "4  1.491879e+18  ...  Thu Feb 10 20:56:47 +0000 2022\n",
              "\n",
              "[5 rows x 8 columns]"
            ]
          },
          "metadata": {},
          "execution_count": 11
        }
      ],
      "source": [
        "# Exemplos de tweets já salvos\n",
        "velhoDF.head()"
      ]
    },
    {
      "cell_type": "code",
      "execution_count": null,
      "metadata": {
        "id": "6Iv1HqpSE_iS"
      },
      "outputs": [],
      "source": [
        "# Função de formatação do tweet antes de salvá-lo no dataset\n",
        "def formatarTweet(tweet):\n",
        "  tweetFormatado = {}\n",
        "  tweetFormatado['user_screen_name'] = tweet['user']['screen_name']\n",
        "  tweetFormatado['user_location'] = tweet['user']['location']\n",
        "  tweetFormatado['user_name'] = tweet['user']['name']\n",
        "  tweetFormatado['favorite_count'] = tweet['favorite_count']\n",
        "  tweetFormatado['created_at'] = tweet['created_at']\n",
        "  tweetFormatado['retweet_count'] = tweet['retweet_count']\n",
        "  tweetFormatado['id'] = tweet['id']\n",
        "  tweetFormatado['hashtags'] = [hashtag['text'] for hashtag in tweet['entities']['hashtags']]\n",
        "  return tweetFormatado\n",
        "  "
      ]
    },
    {
      "cell_type": "markdown",
      "source": [
        "As hashtags foram escolhidas com base no preço de mercado do dia **09 de Feveireiro de 2022**. Foram escolhidas as 10 mais valiosas."
      ],
      "metadata": {
        "id": "uuU9m5eOjYQ2"
      }
    },
    {
      "cell_type": "code",
      "execution_count": null,
      "metadata": {
        "id": "5qHTPUdGITRx"
      },
      "outputs": [],
      "source": [
        "# Definição das hashtags que serão buscadas e passo atual do iterador\n",
        "queries = ['#BTC', '#ETH', '#BNB', '#USDC', '#XRP', '#ADA', '#SOL', '#LUNA', '#AVAX', '#USDT']\n",
        "passoAtual = 1"
      ]
    },
    {
      "cell_type": "markdown",
      "source": [
        "Busca pelos tweets utilizando a API do Twitter e a biblioteca **Twython**."
      ],
      "metadata": {
        "id": "EC0xt3qoj1ko"
      }
    },
    {
      "cell_type": "code",
      "execution_count": null,
      "metadata": {
        "id": "Vxx0cvvwH1WK"
      },
      "outputs": [],
      "source": [
        "# Busca das hashtags e inserção de tweets no dataset\n",
        "tweetsProcurados = []\n",
        "NUMERO_DE_TWEETS_PARA_BUSCA = 1300\n",
        "try:\n",
        "  for query in queries:\n",
        "    print('Procurando: ', query)\n",
        "    cursor = twitter.cursor(twitter.search, q=query, count=100, result_type='mixed')\n",
        "    tweetsProcurados += list(itertools.islice(cursor, NUMERO_DE_TWEETS_PARA_BUSCA * (passoAtual - 1), NUMERO_DE_TWEETS_PARA_BUSCA * passoAtual))\n",
        "    print('Quantidade de buscas restante: ', twitter.get_application_rate_limit_status()['resources'][\"search\"]['/search/tweets']['remaining'])\n",
        "except Exception as e:\n",
        "  print(e)\n",
        "finally:\n",
        "  print('Quantidade de resultados: ', len(tweetsProcurados))\n",
        "  dict_ = {'id': [], 'user_screen_name': [], 'user_location': [], 'user_name': [], 'favorite_count': [], 'retweet_count': [], 'hashtags': [], 'created_at': []}\n",
        "  for tweet in tweetsProcurados:\n",
        "    # Descarta tweets com o conteúdo textual truncado\n",
        "    if tweet['truncated']:\n",
        "      continue\n",
        "    tweetFormatado = formatarTweet(tweet)\n",
        "    # Descarta tweets com a lista de hashtags vazia\n",
        "    if tweetFormatado['hashtags'] == []:\n",
        "      continue\n",
        "    for key in tweetFormatado:\n",
        "      dict_[key].append(tweetFormatado[key])\n",
        "  df = pd.DataFrame(dict_)\n",
        "  print('Dimensoes df:', df.shape)\n",
        "  frames = [velhoDF, df]\n",
        "  novoDF = pd.concat(frames)\n",
        "  novoDF.drop_duplicates(subset=['id'], inplace=True)\n",
        "  print('Dimensoes novoDF:', novoDF.shape)\n",
        "  print('Quantidade de novos tweets:', novoDF.shape[0] - velhoDF.shape[0])\n",
        "  novoDF.to_csv(PATH_DATAFRAME, index=False)\n",
        "  velhoDF = novoDF\n",
        "  passoAtual += 1\n",
        "  time.sleep(900)"
      ]
    },
    {
      "cell_type": "code",
      "execution_count": null,
      "metadata": {
        "colab": {
          "base_uri": "https://localhost:8080/"
        },
        "id": "1XDEe3GlCGR1",
        "outputId": "80e5bc7c-b069-4fa8-f9ea-5a46a3cc74c2"
      },
      "outputs": [
        {
          "output_type": "execute_result",
          "data": {
            "text/plain": [
              "{'/search/tweets': {'limit': 180, 'remaining': 180, 'reset': 1645124800}}"
            ]
          },
          "metadata": {},
          "execution_count": 26
        }
      ],
      "source": [
        "# Verificação da quantidade de requisições restantes no limite de 15 minutos\n",
        "twitter.get_application_rate_limit_status()['resources'][\"search\"]"
      ]
    },
    {
      "cell_type": "markdown",
      "metadata": {
        "id": "wKLqcyEOvc3a"
      },
      "source": [
        "### Dados\n",
        "\n",
        "Com o dataframe devidamente formado, pode-se obter alguns dados interessantes, como por exemplo, aqueles que possuem o maior número de likes."
      ]
    },
    {
      "cell_type": "code",
      "execution_count": null,
      "metadata": {
        "colab": {
          "base_uri": "https://localhost:8080/",
          "height": 206
        },
        "id": "XCHQFhk6vg3t",
        "outputId": "5f92bf4b-f98d-48f5-9814-91df0a3dc465"
      },
      "outputs": [
        {
          "data": {
            "text/html": [
              "\n",
              "  <div id=\"df-60c93591-8828-4a5f-9336-31f914de9b97\">\n",
              "    <div class=\"colab-df-container\">\n",
              "      <div>\n",
              "<style scoped>\n",
              "    .dataframe tbody tr th:only-of-type {\n",
              "        vertical-align: middle;\n",
              "    }\n",
              "\n",
              "    .dataframe tbody tr th {\n",
              "        vertical-align: top;\n",
              "    }\n",
              "\n",
              "    .dataframe thead th {\n",
              "        text-align: right;\n",
              "    }\n",
              "</style>\n",
              "<table border=\"1\" class=\"dataframe\">\n",
              "  <thead>\n",
              "    <tr style=\"text-align: right;\">\n",
              "      <th></th>\n",
              "      <th>id</th>\n",
              "      <th>user_screen_name</th>\n",
              "      <th>user_location</th>\n",
              "      <th>user_name</th>\n",
              "      <th>favorite_count</th>\n",
              "      <th>retweet_count</th>\n",
              "      <th>hashtags</th>\n",
              "      <th>created_at</th>\n",
              "    </tr>\n",
              "  </thead>\n",
              "  <tbody>\n",
              "    <tr>\n",
              "      <th>2381</th>\n",
              "      <td>1.491779e+18</td>\n",
              "      <td>cz_binance</td>\n",
              "      <td>NaN</td>\n",
              "      <td>CZ 🔶 Binance</td>\n",
              "      <td>14542.0</td>\n",
              "      <td>2220.0</td>\n",
              "      <td>['bitcoin', 'BNB']</td>\n",
              "      <td>Thu Feb 10 14:20:41 +0000 2022</td>\n",
              "    </tr>\n",
              "    <tr>\n",
              "      <th>3578</th>\n",
              "      <td>1.491169e+18</td>\n",
              "      <td>EleanorTerrett</td>\n",
              "      <td>New York, USA</td>\n",
              "      <td>Eleanor Terrett</td>\n",
              "      <td>3568.0</td>\n",
              "      <td>532.0</td>\n",
              "      <td>['XRP', 'Cardano']</td>\n",
              "      <td>Tue Feb 08 21:58:02 +0000 2022</td>\n",
              "    </tr>\n",
              "    <tr>\n",
              "      <th>26956</th>\n",
              "      <td>1.492164e+18</td>\n",
              "      <td>MartiniGuyYT</td>\n",
              "      <td>Bitcoin 🚀🌙</td>\n",
              "      <td>That Martini Guy ₿</td>\n",
              "      <td>3201.0</td>\n",
              "      <td>346.0</td>\n",
              "      <td>['BITCOIN', 'BTC']</td>\n",
              "      <td>Fri Feb 11 15:51:08 +0000 2022</td>\n",
              "    </tr>\n",
              "    <tr>\n",
              "      <th>14475</th>\n",
              "      <td>1.491601e+18</td>\n",
              "      <td>reporterchris</td>\n",
              "      <td>Toronto</td>\n",
              "      <td>Chris Johnston</td>\n",
              "      <td>2514.0</td>\n",
              "      <td>119.0</td>\n",
              "      <td>['BTC']</td>\n",
              "      <td>Thu Feb 10 02:31:24 +0000 2022</td>\n",
              "    </tr>\n",
              "    <tr>\n",
              "      <th>3836</th>\n",
              "      <td>1.491166e+18</td>\n",
              "      <td>RippleXrpie</td>\n",
              "      <td>NaN</td>\n",
              "      <td>JackTheRippler🤫🐻🏦</td>\n",
              "      <td>2213.0</td>\n",
              "      <td>136.0</td>\n",
              "      <td>['XRP']</td>\n",
              "      <td>Tue Feb 08 21:44:11 +0000 2022</td>\n",
              "    </tr>\n",
              "  </tbody>\n",
              "</table>\n",
              "</div>\n",
              "      <button class=\"colab-df-convert\" onclick=\"convertToInteractive('df-60c93591-8828-4a5f-9336-31f914de9b97')\"\n",
              "              title=\"Convert this dataframe to an interactive table.\"\n",
              "              style=\"display:none;\">\n",
              "        \n",
              "  <svg xmlns=\"http://www.w3.org/2000/svg\" height=\"24px\"viewBox=\"0 0 24 24\"\n",
              "       width=\"24px\">\n",
              "    <path d=\"M0 0h24v24H0V0z\" fill=\"none\"/>\n",
              "    <path d=\"M18.56 5.44l.94 2.06.94-2.06 2.06-.94-2.06-.94-.94-2.06-.94 2.06-2.06.94zm-11 1L8.5 8.5l.94-2.06 2.06-.94-2.06-.94L8.5 2.5l-.94 2.06-2.06.94zm10 10l.94 2.06.94-2.06 2.06-.94-2.06-.94-.94-2.06-.94 2.06-2.06.94z\"/><path d=\"M17.41 7.96l-1.37-1.37c-.4-.4-.92-.59-1.43-.59-.52 0-1.04.2-1.43.59L10.3 9.45l-7.72 7.72c-.78.78-.78 2.05 0 2.83L4 21.41c.39.39.9.59 1.41.59.51 0 1.02-.2 1.41-.59l7.78-7.78 2.81-2.81c.8-.78.8-2.07 0-2.86zM5.41 20L4 18.59l7.72-7.72 1.47 1.35L5.41 20z\"/>\n",
              "  </svg>\n",
              "      </button>\n",
              "      \n",
              "  <style>\n",
              "    .colab-df-container {\n",
              "      display:flex;\n",
              "      flex-wrap:wrap;\n",
              "      gap: 12px;\n",
              "    }\n",
              "\n",
              "    .colab-df-convert {\n",
              "      background-color: #E8F0FE;\n",
              "      border: none;\n",
              "      border-radius: 50%;\n",
              "      cursor: pointer;\n",
              "      display: none;\n",
              "      fill: #1967D2;\n",
              "      height: 32px;\n",
              "      padding: 0 0 0 0;\n",
              "      width: 32px;\n",
              "    }\n",
              "\n",
              "    .colab-df-convert:hover {\n",
              "      background-color: #E2EBFA;\n",
              "      box-shadow: 0px 1px 2px rgba(60, 64, 67, 0.3), 0px 1px 3px 1px rgba(60, 64, 67, 0.15);\n",
              "      fill: #174EA6;\n",
              "    }\n",
              "\n",
              "    [theme=dark] .colab-df-convert {\n",
              "      background-color: #3B4455;\n",
              "      fill: #D2E3FC;\n",
              "    }\n",
              "\n",
              "    [theme=dark] .colab-df-convert:hover {\n",
              "      background-color: #434B5C;\n",
              "      box-shadow: 0px 1px 3px 1px rgba(0, 0, 0, 0.15);\n",
              "      filter: drop-shadow(0px 1px 2px rgba(0, 0, 0, 0.3));\n",
              "      fill: #FFFFFF;\n",
              "    }\n",
              "  </style>\n",
              "\n",
              "      <script>\n",
              "        const buttonEl =\n",
              "          document.querySelector('#df-60c93591-8828-4a5f-9336-31f914de9b97 button.colab-df-convert');\n",
              "        buttonEl.style.display =\n",
              "          google.colab.kernel.accessAllowed ? 'block' : 'none';\n",
              "\n",
              "        async function convertToInteractive(key) {\n",
              "          const element = document.querySelector('#df-60c93591-8828-4a5f-9336-31f914de9b97');\n",
              "          const dataTable =\n",
              "            await google.colab.kernel.invokeFunction('convertToInteractive',\n",
              "                                                     [key], {});\n",
              "          if (!dataTable) return;\n",
              "\n",
              "          const docLinkHtml = 'Like what you see? Visit the ' +\n",
              "            '<a target=\"_blank\" href=https://colab.research.google.com/notebooks/data_table.ipynb>data table notebook</a>'\n",
              "            + ' to learn more about interactive tables.';\n",
              "          element.innerHTML = '';\n",
              "          dataTable['output_type'] = 'display_data';\n",
              "          await google.colab.output.renderOutput(dataTable, element);\n",
              "          const docLink = document.createElement('div');\n",
              "          docLink.innerHTML = docLinkHtml;\n",
              "          element.appendChild(docLink);\n",
              "        }\n",
              "      </script>\n",
              "    </div>\n",
              "  </div>\n",
              "  "
            ],
            "text/plain": [
              "                 id  ...                      created_at\n",
              "2381   1.491779e+18  ...  Thu Feb 10 14:20:41 +0000 2022\n",
              "3578   1.491169e+18  ...  Tue Feb 08 21:58:02 +0000 2022\n",
              "26956  1.492164e+18  ...  Fri Feb 11 15:51:08 +0000 2022\n",
              "14475  1.491601e+18  ...  Thu Feb 10 02:31:24 +0000 2022\n",
              "3836   1.491166e+18  ...  Tue Feb 08 21:44:11 +0000 2022\n",
              "\n",
              "[5 rows x 8 columns]"
            ]
          },
          "execution_count": 64,
          "metadata": {},
          "output_type": "execute_result"
        }
      ],
      "source": [
        "ordenacaoPorNumeroFavoritos = novoDF.sort_values(by=['favorite_count'], ascending=False)\n",
        "ordenacaoPorNumeroFavoritos.head()"
      ]
    },
    {
      "cell_type": "markdown",
      "metadata": {
        "id": "mhyksTJAvhcJ"
      },
      "source": [
        "Outra métrica interessante é verificar quais tweets possuem o maior número de retweets."
      ]
    },
    {
      "cell_type": "code",
      "execution_count": null,
      "metadata": {
        "colab": {
          "base_uri": "https://localhost:8080/",
          "height": 206
        },
        "id": "6qNgBamEvlG6",
        "outputId": "cd1217ae-6df3-4e58-b21c-2b6d429003af"
      },
      "outputs": [
        {
          "data": {
            "text/html": [
              "\n",
              "  <div id=\"df-2806c0f7-39f1-41f7-971f-795d5c2593a8\">\n",
              "    <div class=\"colab-df-container\">\n",
              "      <div>\n",
              "<style scoped>\n",
              "    .dataframe tbody tr th:only-of-type {\n",
              "        vertical-align: middle;\n",
              "    }\n",
              "\n",
              "    .dataframe tbody tr th {\n",
              "        vertical-align: top;\n",
              "    }\n",
              "\n",
              "    .dataframe thead th {\n",
              "        text-align: right;\n",
              "    }\n",
              "</style>\n",
              "<table border=\"1\" class=\"dataframe\">\n",
              "  <thead>\n",
              "    <tr style=\"text-align: right;\">\n",
              "      <th></th>\n",
              "      <th>id</th>\n",
              "      <th>user_screen_name</th>\n",
              "      <th>user_location</th>\n",
              "      <th>user_name</th>\n",
              "      <th>favorite_count</th>\n",
              "      <th>retweet_count</th>\n",
              "      <th>hashtags</th>\n",
              "      <th>created_at</th>\n",
              "    </tr>\n",
              "  </thead>\n",
              "  <tbody>\n",
              "    <tr>\n",
              "      <th>2829</th>\n",
              "      <td>1.491572e+18</td>\n",
              "      <td>Z3rou</td>\n",
              "      <td>Brasil</td>\n",
              "      <td>Zirou</td>\n",
              "      <td>0.0</td>\n",
              "      <td>38052.0</td>\n",
              "      <td>['BNB']</td>\n",
              "      <td>Thu Feb 10 00:35:40 +0000 2022</td>\n",
              "    </tr>\n",
              "    <tr>\n",
              "      <th>2384</th>\n",
              "      <td>1.492325e+18</td>\n",
              "      <td>Rakeshp15735056</td>\n",
              "      <td>Kolkata</td>\n",
              "      <td>summpk</td>\n",
              "      <td>0.0</td>\n",
              "      <td>35215.0</td>\n",
              "      <td>[Airdrops, Giveaways]</td>\n",
              "      <td>Sat Feb 12 02:29:32 +0000 2022</td>\n",
              "    </tr>\n",
              "    <tr>\n",
              "      <th>2111</th>\n",
              "      <td>1.493019e+18</td>\n",
              "      <td>Melissa53702410</td>\n",
              "      <td></td>\n",
              "      <td>Melissa Taylor</td>\n",
              "      <td>0.0</td>\n",
              "      <td>35213.0</td>\n",
              "      <td>[Airdrops, Giveaways]</td>\n",
              "      <td>Mon Feb 14 00:26:17 +0000 2022</td>\n",
              "    </tr>\n",
              "    <tr>\n",
              "      <th>43551</th>\n",
              "      <td>1.492956e+18</td>\n",
              "      <td>komoriri1</td>\n",
              "      <td>NaN</td>\n",
              "      <td>komoriri</td>\n",
              "      <td>0.0</td>\n",
              "      <td>35191.0</td>\n",
              "      <td>['Airdrops', 'Giveaways']</td>\n",
              "      <td>Sun Feb 13 20:16:07 +0000 2022</td>\n",
              "    </tr>\n",
              "    <tr>\n",
              "      <th>35397</th>\n",
              "      <td>1.492928e+18</td>\n",
              "      <td>dnhung851</td>\n",
              "      <td>Việt Nam</td>\n",
              "      <td>Nhung Do</td>\n",
              "      <td>0.0</td>\n",
              "      <td>35176.0</td>\n",
              "      <td>['Airdrops', 'Giveaways']</td>\n",
              "      <td>Sun Feb 13 18:25:56 +0000 2022</td>\n",
              "    </tr>\n",
              "  </tbody>\n",
              "</table>\n",
              "</div>\n",
              "      <button class=\"colab-df-convert\" onclick=\"convertToInteractive('df-2806c0f7-39f1-41f7-971f-795d5c2593a8')\"\n",
              "              title=\"Convert this dataframe to an interactive table.\"\n",
              "              style=\"display:none;\">\n",
              "        \n",
              "  <svg xmlns=\"http://www.w3.org/2000/svg\" height=\"24px\"viewBox=\"0 0 24 24\"\n",
              "       width=\"24px\">\n",
              "    <path d=\"M0 0h24v24H0V0z\" fill=\"none\"/>\n",
              "    <path d=\"M18.56 5.44l.94 2.06.94-2.06 2.06-.94-2.06-.94-.94-2.06-.94 2.06-2.06.94zm-11 1L8.5 8.5l.94-2.06 2.06-.94-2.06-.94L8.5 2.5l-.94 2.06-2.06.94zm10 10l.94 2.06.94-2.06 2.06-.94-2.06-.94-.94-2.06-.94 2.06-2.06.94z\"/><path d=\"M17.41 7.96l-1.37-1.37c-.4-.4-.92-.59-1.43-.59-.52 0-1.04.2-1.43.59L10.3 9.45l-7.72 7.72c-.78.78-.78 2.05 0 2.83L4 21.41c.39.39.9.59 1.41.59.51 0 1.02-.2 1.41-.59l7.78-7.78 2.81-2.81c.8-.78.8-2.07 0-2.86zM5.41 20L4 18.59l7.72-7.72 1.47 1.35L5.41 20z\"/>\n",
              "  </svg>\n",
              "      </button>\n",
              "      \n",
              "  <style>\n",
              "    .colab-df-container {\n",
              "      display:flex;\n",
              "      flex-wrap:wrap;\n",
              "      gap: 12px;\n",
              "    }\n",
              "\n",
              "    .colab-df-convert {\n",
              "      background-color: #E8F0FE;\n",
              "      border: none;\n",
              "      border-radius: 50%;\n",
              "      cursor: pointer;\n",
              "      display: none;\n",
              "      fill: #1967D2;\n",
              "      height: 32px;\n",
              "      padding: 0 0 0 0;\n",
              "      width: 32px;\n",
              "    }\n",
              "\n",
              "    .colab-df-convert:hover {\n",
              "      background-color: #E2EBFA;\n",
              "      box-shadow: 0px 1px 2px rgba(60, 64, 67, 0.3), 0px 1px 3px 1px rgba(60, 64, 67, 0.15);\n",
              "      fill: #174EA6;\n",
              "    }\n",
              "\n",
              "    [theme=dark] .colab-df-convert {\n",
              "      background-color: #3B4455;\n",
              "      fill: #D2E3FC;\n",
              "    }\n",
              "\n",
              "    [theme=dark] .colab-df-convert:hover {\n",
              "      background-color: #434B5C;\n",
              "      box-shadow: 0px 1px 3px 1px rgba(0, 0, 0, 0.15);\n",
              "      filter: drop-shadow(0px 1px 2px rgba(0, 0, 0, 0.3));\n",
              "      fill: #FFFFFF;\n",
              "    }\n",
              "  </style>\n",
              "\n",
              "      <script>\n",
              "        const buttonEl =\n",
              "          document.querySelector('#df-2806c0f7-39f1-41f7-971f-795d5c2593a8 button.colab-df-convert');\n",
              "        buttonEl.style.display =\n",
              "          google.colab.kernel.accessAllowed ? 'block' : 'none';\n",
              "\n",
              "        async function convertToInteractive(key) {\n",
              "          const element = document.querySelector('#df-2806c0f7-39f1-41f7-971f-795d5c2593a8');\n",
              "          const dataTable =\n",
              "            await google.colab.kernel.invokeFunction('convertToInteractive',\n",
              "                                                     [key], {});\n",
              "          if (!dataTable) return;\n",
              "\n",
              "          const docLinkHtml = 'Like what you see? Visit the ' +\n",
              "            '<a target=\"_blank\" href=https://colab.research.google.com/notebooks/data_table.ipynb>data table notebook</a>'\n",
              "            + ' to learn more about interactive tables.';\n",
              "          element.innerHTML = '';\n",
              "          dataTable['output_type'] = 'display_data';\n",
              "          await google.colab.output.renderOutput(dataTable, element);\n",
              "          const docLink = document.createElement('div');\n",
              "          docLink.innerHTML = docLinkHtml;\n",
              "          element.appendChild(docLink);\n",
              "        }\n",
              "      </script>\n",
              "    </div>\n",
              "  </div>\n",
              "  "
            ],
            "text/plain": [
              "                 id  ...                      created_at\n",
              "2829   1.491572e+18  ...  Thu Feb 10 00:35:40 +0000 2022\n",
              "2384   1.492325e+18  ...  Sat Feb 12 02:29:32 +0000 2022\n",
              "2111   1.493019e+18  ...  Mon Feb 14 00:26:17 +0000 2022\n",
              "43551  1.492956e+18  ...  Sun Feb 13 20:16:07 +0000 2022\n",
              "35397  1.492928e+18  ...  Sun Feb 13 18:25:56 +0000 2022\n",
              "\n",
              "[5 rows x 8 columns]"
            ]
          },
          "execution_count": 63,
          "metadata": {},
          "output_type": "execute_result"
        }
      ],
      "source": [
        "ordenacaoPorNumeroRetweet = novoDF.sort_values(by=['retweet_count'], ascending=False)\n",
        "ordenacaoPorNumeroRetweet.head()"
      ]
    }
  ],
  "metadata": {
    "colab": {
      "collapsed_sections": [],
      "name": "TesteTwitter.ipynb",
      "provenance": []
    },
    "kernelspec": {
      "display_name": "Python 3",
      "name": "python3"
    },
    "language_info": {
      "name": "python"
    }
  },
  "nbformat": 4,
  "nbformat_minor": 0
}